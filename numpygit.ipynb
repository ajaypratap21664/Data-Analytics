{
 "cells": [
  {
   "cell_type": "code",
   "execution_count": 1,
   "id": "c82cbd00",
   "metadata": {},
   "outputs": [],
   "source": [
    "import numpy as np"
   ]
  },
  {
   "cell_type": "code",
   "execution_count": 2,
   "id": "58608d05",
   "metadata": {},
   "outputs": [],
   "source": [
    "arr1=np.array([1,2,3,4])"
   ]
  },
  {
   "cell_type": "code",
   "execution_count": 3,
   "id": "5d283c1f",
   "metadata": {},
   "outputs": [
    {
     "name": "stdout",
     "output_type": "stream",
     "text": [
      "[1 2 3 4]\n"
     ]
    }
   ],
   "source": [
    "print(arr1)"
   ]
  },
  {
   "cell_type": "code",
   "execution_count": 5,
   "id": "a6be20f5",
   "metadata": {},
   "outputs": [
    {
     "name": "stdout",
     "output_type": "stream",
     "text": [
      "[[1 2 3 4]\n",
      " [5 6 7 8]]\n"
     ]
    }
   ],
   "source": [
    "arr2=np.array([[1,2,3,4],[5,6,7,8]])\n",
    "print(arr2)"
   ]
  },
  {
   "cell_type": "code",
   "execution_count": 6,
   "id": "a1251750",
   "metadata": {},
   "outputs": [],
   "source": [
    "zoro_arr=np.zeros((2,3))"
   ]
  },
  {
   "cell_type": "code",
   "execution_count": 7,
   "id": "fde9f5ca",
   "metadata": {},
   "outputs": [
    {
     "name": "stdout",
     "output_type": "stream",
     "text": [
      "[[0. 0. 0.]\n",
      " [0. 0. 0.]]\n"
     ]
    }
   ],
   "source": [
    "print(zoro_arr)"
   ]
  },
  {
   "cell_type": "code",
   "execution_count": 8,
   "id": "74b70a71",
   "metadata": {},
   "outputs": [],
   "source": [
    "one_arr=np.ones((3,2))"
   ]
  },
  {
   "cell_type": "code",
   "execution_count": 9,
   "id": "b16d6101",
   "metadata": {},
   "outputs": [
    {
     "name": "stdout",
     "output_type": "stream",
     "text": [
      "[[1. 1.]\n",
      " [1. 1.]\n",
      " [1. 1.]]\n"
     ]
    }
   ],
   "source": [
    "print(one_arr)"
   ]
  },
  {
   "cell_type": "code",
   "execution_count": 13,
   "id": "177bc7f2",
   "metadata": {},
   "outputs": [
    {
     "name": "stdout",
     "output_type": "stream",
     "text": [
      "[[1 2 3]\n",
      " [4 5 6]]\n"
     ]
    }
   ],
   "source": [
    "arr_1=np.array([[1,2,3],[4,5,6]])\n",
    "arr_2=np.array([[7,8,9],[10,11,12]])\n",
    "print(arr_1)"
   ]
  },
  {
   "cell_type": "code",
   "execution_count": 14,
   "id": "1abdf0a1",
   "metadata": {},
   "outputs": [
    {
     "name": "stdout",
     "output_type": "stream",
     "text": [
      "[[ 7  8  9]\n",
      " [10 11 12]]\n"
     ]
    }
   ],
   "source": [
    "print(arr_2)"
   ]
  },
  {
   "cell_type": "code",
   "execution_count": 15,
   "id": "fcf81a4b",
   "metadata": {},
   "outputs": [
    {
     "name": "stdout",
     "output_type": "stream",
     "text": [
      "[[ 8 10 12]\n",
      " [14 16 18]]\n"
     ]
    }
   ],
   "source": [
    "print(arr_1+arr_2)"
   ]
  },
  {
   "cell_type": "code",
   "execution_count": 16,
   "id": "0244a648",
   "metadata": {},
   "outputs": [
    {
     "name": "stdout",
     "output_type": "stream",
     "text": [
      "[[ 2  4  6]\n",
      " [ 8 10 12]]\n"
     ]
    }
   ],
   "source": [
    "print(2*arr_1)"
   ]
  },
  {
   "cell_type": "code",
   "execution_count": 17,
   "id": "2c69e451",
   "metadata": {},
   "outputs": [
    {
     "name": "stdout",
     "output_type": "stream",
     "text": [
      "[[ 7  8  9]\n",
      " [10 11 12]]\n"
     ]
    }
   ],
   "source": [
    "print(arr_2)"
   ]
  },
  {
   "cell_type": "code",
   "execution_count": 20,
   "id": "b3ae78b3",
   "metadata": {},
   "outputs": [
    {
     "name": "stdout",
     "output_type": "stream",
     "text": [
      "[[ 7  8  9]\n",
      " [10 11 12]]\n"
     ]
    }
   ],
   "source": [
    "print(arr_2[0:2,])"
   ]
  },
  {
   "cell_type": "code",
   "execution_count": 21,
   "id": "a30095d9",
   "metadata": {},
   "outputs": [
    {
     "ename": "SyntaxError",
     "evalue": "invalid syntax (3116488845.py, line 1)",
     "output_type": "error",
     "traceback": [
      "\u001b[1;36m  Input \u001b[1;32mIn [21]\u001b[1;36m\u001b[0m\n\u001b[1;33m    print(arr_2[,2])\u001b[0m\n\u001b[1;37m                ^\u001b[0m\n\u001b[1;31mSyntaxError\u001b[0m\u001b[1;31m:\u001b[0m invalid syntax\n"
     ]
    }
   ],
   "source": [
    "print(arr_2[,2])"
   ]
  },
  {
   "cell_type": "code",
   "execution_count": 23,
   "id": "05b659f3",
   "metadata": {},
   "outputs": [
    {
     "ename": "IndexError",
     "evalue": "index 3 is out of bounds for axis 1 with size 3",
     "output_type": "error",
     "traceback": [
      "\u001b[1;31m---------------------------------------------------------------------------\u001b[0m",
      "\u001b[1;31mIndexError\u001b[0m                                Traceback (most recent call last)",
      "Input \u001b[1;32mIn [23]\u001b[0m, in \u001b[0;36m<cell line: 1>\u001b[1;34m()\u001b[0m\n\u001b[1;32m----> 1\u001b[0m \u001b[38;5;28mprint\u001b[39m(\u001b[43marr_2\u001b[49m\u001b[43m[\u001b[49m\u001b[43m:\u001b[49m\u001b[43m,\u001b[49m\u001b[38;5;241;43m3\u001b[39;49m\u001b[43m]\u001b[49m)\n",
      "\u001b[1;31mIndexError\u001b[0m: index 3 is out of bounds for axis 1 with size 3"
     ]
    }
   ],
   "source": [
    "print(arr_2[:,3])"
   ]
  },
  {
   "cell_type": "code",
   "execution_count": 24,
   "id": "0d4fe983",
   "metadata": {},
   "outputs": [
    {
     "name": "stdout",
     "output_type": "stream",
     "text": [
      "[[ 7  8  9]\n",
      " [10 11 12]]\n"
     ]
    }
   ],
   "source": [
    "print(arr_2)"
   ]
  },
  {
   "cell_type": "code",
   "execution_count": 25,
   "id": "239828df",
   "metadata": {},
   "outputs": [
    {
     "name": "stdout",
     "output_type": "stream",
     "text": [
      "[[1 2 3]\n",
      " [4 5 6]]\n"
     ]
    }
   ],
   "source": [
    "print(arr_1)"
   ]
  },
  {
   "cell_type": "code",
   "execution_count": 26,
   "id": "f64f03c8",
   "metadata": {},
   "outputs": [
    {
     "name": "stdout",
     "output_type": "stream",
     "text": [
      "21\n"
     ]
    }
   ],
   "source": [
    "print(np.sum(arr_1))"
   ]
  },
  {
   "cell_type": "code",
   "execution_count": 29,
   "id": "8ca5a228",
   "metadata": {},
   "outputs": [
    {
     "name": "stdout",
     "output_type": "stream",
     "text": [
      "[5 7]\n"
     ]
    }
   ],
   "source": [
    "print(np.sum(arr_1[:,0:2],axis=0))"
   ]
  },
  {
   "cell_type": "code",
   "execution_count": 30,
   "id": "d0828c1e",
   "metadata": {},
   "outputs": [
    {
     "name": "stdout",
     "output_type": "stream",
     "text": [
      "3.5\n"
     ]
    }
   ],
   "source": [
    "print(np.mean(arr_1))"
   ]
  },
  {
   "cell_type": "code",
   "execution_count": 31,
   "id": "92533837",
   "metadata": {},
   "outputs": [],
   "source": [
    "import numpy as np\n",
    "\n",
    "# Creating a sample array\n",
    "arr_1 = np.array([[1, 2, 3], [4, 5, 6], [7, 8, 9]])\n",
    "\n",
    "# Arithmetic Operations\n",
    "result_addition = np.add(arr_1, 2)   # Add 2 to each element\n",
    "result_multiply = np.multiply(arr_1, 3)  # Multiply each element by 3\n",
    "\n",
    "# Trigonometric Functions\n",
    "result_sin = np.sin(arr_1)  # Compute sine of each element\n",
    "result_cos = np.cos(arr_1)  # Compute cosine of each element\n",
    "\n",
    "# Exponential and Logarithmic Functions\n",
    "result_exp = np.exp(arr_1)  # Compute e^x for each element\n",
    "result_log = np.log(arr_1)  # Compute natural logarithm for each element\n",
    "\n",
    "# Comparisons\n",
    "result_greater_than_5 = arr_1 > 5  # Create a boolean array indicating elements greater than 5\n",
    "\n",
    "# Element-wise Maximum\n",
    "result_max = np.maximum(arr_1, 5)  # Element-wise maximum with 5\n",
    "\n",
    "# Element-wise Square Root\n",
    "result_sqrt = np.sqrt(arr_1)  # Compute square root of each element\n"
   ]
  },
  {
   "cell_type": "code",
   "execution_count": null,
   "id": "61bfaaff",
   "metadata": {},
   "outputs": [],
   "source": [
    "import numpy as np\n",
    "\n",
    "# Creating sample matrices\n",
    "matrix_A = np.array([[1, 2], [3, 4]])\n",
    "matrix_B = np.array([[5, 6], [7, 8]])\n",
    "\n",
    "# Matrix Multiplication\n",
    "matrix_multiply = np.dot(matrix_A, matrix_B)\n",
    "\n",
    "# Determinant Calculation\n",
    "matrix_det_A = np.linalg.det(matrix_A)\n",
    "\n",
    "# Eigenvalue Computation\n",
    "eigenvalues, eigenvectors = np.linalg.eig(matrix_A)\n"
   ]
  },
  {
   "cell_type": "code",
   "execution_count": null,
   "id": "67d78426",
   "metadata": {},
   "outputs": [],
   "source": [
    "# Generating Random Numbers\n",
    "random_number = np.random.rand()  # Random float between 0 and 1\n",
    "random_array = np.random.rand(3, 4)  # 3x4 array of random floats between 0 and 1\n",
    "\n",
    "# Random Sampling from a Distribution\n",
    "random_int = np.random.randint(1, 10, size=(2, 3))  # 2x3 array of random integers between 1 and 10\n",
    "random_normal = np.random.normal(loc=0, scale=1, size=(3, 3))  # 3x3 array sampled from a normal distribution\n"
   ]
  },
  {
   "cell_type": "code",
   "execution_count": null,
   "id": "e184b785",
   "metadata": {},
   "outputs": [],
   "source": [
    "# Calculating Mean, Median, Standard Deviation, and Variance\n",
    "data = np.array([1, 2, 3, 4, 5])\n",
    "\n",
    "mean_value = np.mean(data)\n",
    "median_value = np.median(data)\n",
    "std_deviation = np.std(data)\n",
    "variance = np.var(data)\n"
   ]
  }
 ],
 "metadata": {
  "kernelspec": {
   "display_name": "Python 3 (ipykernel)",
   "language": "python",
   "name": "python3"
  },
  "language_info": {
   "codemirror_mode": {
    "name": "ipython",
    "version": 3
   },
   "file_extension": ".py",
   "mimetype": "text/x-python",
   "name": "python",
   "nbconvert_exporter": "python",
   "pygments_lexer": "ipython3",
   "version": "3.10.6"
  }
 },
 "nbformat": 4,
 "nbformat_minor": 5
}
